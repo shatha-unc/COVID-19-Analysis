{
 "cells": [
  {
   "cell_type": "markdown",
   "id": "8dce4247",
   "metadata": {},
   "source": [
    "### COVID-19 Severity Classification\n",
    "# \n",
    "##### This notebook demonstrates a machine learning workflow to classify COVID-19 patient severity levels based on clinical measurements. \n",
    "##### Two models are built: a \"mild\" classifier using vital signs and a \"severe\" classifier using all lab measurements. \n",
    "##### Finally, the models are combined to improve predictive performance."
   ]
  },
  {
   "cell_type": "code",
   "execution_count": null,
   "id": "69dd87d5",
   "metadata": {},
   "outputs": [],
   "source": [
    "# Import necessary libraries\n",
    "import pandas as pd\n",
    "from sklearn.model_selection import train_test_split\n",
    "from sklearn.impute import SimpleImputer\n",
    "from sklearn.linear_model import LogisticRegression\n",
    "from sklearn.metrics import accuracy_score, classification_report"
   ]
  },
  {
   "cell_type": "markdown",
   "id": "a605f01f",
   "metadata": {},
   "source": [
    "##### Step 1: Load and Inspect Data\n",
    "##### Load the COVID-19 dataset and convert date columns to datetime."
   ]
  },
  {
   "cell_type": "code",
   "execution_count": null,
   "id": "d7c5d728",
   "metadata": {},
   "outputs": [],
   "source": [
    "# Load COVID-19 data\n",
    "covid_data = pd.read_csv(\"data_covid.csv\")\n",
    "\n",
    "# Convert measurement_date to datetime\n",
    "covid_data['measurement_date'] = pd.to_datetime(covid_data['measurement_date'])"
   ]
  },
  {
   "cell_type": "markdown",
   "id": "d7ff710f",
   "metadata": {},
   "source": [
    "##### Step 2: Filter First Day Measurements\n",
    "##### Keep only measurements from each patient's first day."
   ]
  },
  {
   "cell_type": "code",
   "execution_count": null,
   "id": "8867d123",
   "metadata": {},
   "outputs": [],
   "source": [
    "# Filter first day measurements\n",
    "first_day_data = covid_data[covid_data['measurement_date'] == \n",
    "                            covid_data.groupby('person_id')['measurement_date'].transform('min')]\n",
    "\n",
    "# Pivot data so each measurement is a separate column\n",
    "first_day_pivot = first_day_data.pivot_table(\n",
    "    index=['person_id', 'current_age', 'category', 'race_name', 'gen_name'],\n",
    "    columns='measurement_name',\n",
    "    values='value_as_number'\n",
    ").reset_index()"
   ]
  },
  {
   "cell_type": "markdown",
   "id": "7ba9e41f",
   "metadata": {},
   "source": [
    "##### Step 3: Feature Selection\n",
    "##### Define vital signs and all lab measurements."
   ]
  },
  {
   "cell_type": "code",
   "execution_count": null,
   "id": "626b65b6",
   "metadata": {},
   "outputs": [],
   "source": [
    "# Vital signs for \"mild\" classifier\n",
    "vital_signs = [\n",
    "    'Diastolic blood pressure', 'Body temperature', 'Systolic blood pressure',\n",
    "    'Body weight', 'Respiratory rate', 'Oxygen saturation in Arterial blood'\n",
    "]\n",
    "\n",
    "# All lab measurements for \"severe\" classifier\n",
    "lab_measurements = [\n",
    "    'Diastolic blood pressure', 'Body temperature', 'Respiratory rate',\n",
    "    'Oxygen saturation in Arterial blood', 'Systolic blood pressure',\n",
    "    'Body weight', 'Heart rate',\n",
    "    'Hematocrit [Volume Fraction] of Blood by Automated count',\n",
    "    'Erythrocytes [#/volume] in Blood by Automated count',\n",
    "    'Aspartate aminotransferase [Enzymatic activity/volume] in Serum or Plasma',\n",
    "    'Alanine aminotransferase [Enzymatic activity/volume] in Serum or Plasma',\n",
    "    'Alkaline phosphatase [Enzymatic activity/volume] in Serum or Plasma',\n",
    "    'Bilirubin.total [Mass/volume] in Serum or Plasma',\n",
    "    'Albumin [Mass/volume] in Serum or Plasma',\n",
    "    'MCHC [Mass/volume] by Automated count',\n",
    "    'Hemoglobin [Mass/volume] in Blood',\n",
    "    'Platelets [#/volume] in Blood by Automated count',\n",
    "    'Glomerular filtration rate/1.73 sq M.predicted [Volume Rate/Area] in Serum, Plasma or Blood by Creatinine-based formula (MDRD)',\n",
    "    'Protein [Mass/volume] in Serum or Plasma',\n",
    "    'MCH [Entitic mass] by Automated count',\n",
    "    'MCV [Entitic volume] by Automated count',\n",
    "    'Leukocytes [#/volume] in Blood by Automated count'\n",
    "]\n"
   ]
  },
  {
   "cell_type": "markdown",
   "id": "2b318038",
   "metadata": {},
   "source": [
    "##### Step 4: Prepare Data for Classification\n",
    "##### Define features and target variables for mild and severe classifiers."
   ]
  },
  {
   "cell_type": "code",
   "execution_count": null,
   "id": "f06d651c",
   "metadata": {},
   "outputs": [],
   "source": [
    "# Mild classifier: only vital signs\n",
    "X_binary = first_day_pivot[vital_signs].values\n",
    "y_binary = (first_day_pivot['category'] != 'mild').astype(int).values\n",
    "\n",
    "# Severe classifier: all features\n",
    "X_severe = first_day_pivot.drop(['person_id','current_age','category','race_name','gen_name'], axis=1).values\n",
    "y_severe = first_day_pivot['category'].apply(lambda x: 1 if x=='severe' else 0).values"
   ]
  },
  {
   "cell_type": "markdown",
   "id": "181b98de",
   "metadata": {},
   "source": [
    "##### Step 5: Impute Missing Values and Split Data\n",
    "##### Fill missing values using median and split into train/test sets."
   ]
  },
  {
   "cell_type": "code",
   "execution_count": null,
   "id": "40f6e891",
   "metadata": {},
   "outputs": [],
   "source": [
    "# Impute missing values\n",
    "imputer = SimpleImputer(strategy='median')\n",
    "X_binary = imputer.fit_transform(X_binary)\n",
    "X_severe = imputer.fit_transform(X_severe)\n",
    "\n",
    "# Split data\n",
    "X_train_binary, X_test_binary, y_train_binary, y_test_binary = train_test_split(\n",
    "    X_binary, y_binary, test_size=0.2, random_state=42\n",
    ")\n",
    "X_train_severe, X_test_severe, y_train_severe, y_test_severe = train_test_split(\n",
    "    X_severe, y_severe, test_size=0.2, random_state=42\n",
    ")"
   ]
  },
  {
   "cell_type": "markdown",
   "id": "1f401f9b",
   "metadata": {},
   "source": [
    "##### Step 6: Train Classifiers\n",
    "##### Train Logistic Regression models for both mild and severe predictions."
   ]
  },
  {
   "cell_type": "code",
   "execution_count": null,
   "id": "14ee0e3e",
   "metadata": {},
   "outputs": [],
   "source": [
    "\n",
    "# Train mild classifier\n",
    "binary_classifier = LogisticRegression(max_iter=500)\n",
    "binary_classifier.fit(X_train_binary, y_train_binary)\n",
    "\n",
    "# Train severe classifier\n",
    "severe_classifier = LogisticRegression(max_iter=500)\n",
    "severe_classifier.fit(X_train_severe, y_train_severe)"
   ]
  },
  {
   "cell_type": "markdown",
   "id": "8b76a1bd",
   "metadata": {},
   "source": [
    "##### Step 7: Evaluate Classifiers\n",
    "##### Evaluate each classifier individually and then combined."
   ]
  },
  {
   "cell_type": "code",
   "execution_count": null,
   "id": "7b622f10",
   "metadata": {},
   "outputs": [],
   "source": [
    "# Mild classifier evaluation\n",
    "binary_predictions = binary_classifier.predict(X_test_binary)\n",
    "print(\"Mild Classifier Accuracy:\", accuracy_score(y_test_binary, binary_predictions))\n",
    "print(classification_report(y_test_binary, binary_predictions))\n",
    "\n",
    "# Severe classifier evaluation\n",
    "severe_predictions = severe_classifier.predict(X_test_severe)\n",
    "print(\"Severe Classifier Accuracy:\", accuracy_score(y_test_severe, severe_predictions))\n",
    "print(classification_report(y_test_severe, severe_predictions))\n",
    "\n",
    "# Combined evaluation: only predict severe if mild predicts positive\n",
    "X_test_severe_final = X_test_severe[binary_predictions==1]\n",
    "y_test_severe_final = y_test_severe[binary_predictions==1]\n",
    "severe_predictions_final = severe_classifier.predict(X_test_severe_final)\n",
    "\n",
    "print(\"Final Combined Classifier Accuracy:\", accuracy_score(y_test_severe_final, severe_predictions_final))\n",
    "print(classification_report(y_test_severe_final, severe_predictions_final))"
   ]
  },
  {
   "cell_type": "markdown",
   "id": "e92c83d1",
   "metadata": {},
   "source": [
    "##### Step 8: Demographic Tables\n",
    "##### Summarize patient demographics by COVID-19 severity."
   ]
  },
  {
   "cell_type": "code",
   "execution_count": null,
   "id": "9002b248",
   "metadata": {},
   "outputs": [],
   "source": [
    "# Group by sex\n",
    "grouped_sex = first_day_pivot.groupby(['category','gen_name']).size().unstack(fill_value=0)\n",
    "grouped_sex['Total'] = grouped_sex.sum(axis=1)\n",
    "\n",
    "# Group by age group\n",
    "age_bins = [0,18,45,65,150]\n",
    "age_labels = ['< 18','18 - 45','46 - 65','> 65']\n",
    "first_day_pivot['Age_Group'] = pd.cut(first_day_pivot['current_age'], bins=age_bins, labels=age_labels)\n",
    "grouped_age = first_day_pivot.groupby(['category','Age_Group']).size().unstack(fill_value=0)\n",
    "grouped_age['Total'] = grouped_age.sum(axis=1)\n",
    "\n",
    "# Group by race\n",
    "grouped_race = first_day_pivot.groupby(['category','race_name']).size().unstack(fill_value=0)\n",
    "grouped_race['Total'] = grouped_race.sum(axis=1)\n",
    "\n",
    "# Print tables\n",
    "print(\"Table 1: Demographic Characteristics of Patient Population\")\n",
    "print(\"\\nSex\")\n",
    "print(grouped_sex)\n",
    "print(\"\\nAge\")\n",
    "print(grouped_age)\n",
    "print(\"\\nRace\")\n",
    "print(grouped_race)"
   ]
  },
  {
   "cell_type": "markdown",
   "id": "f1e46753",
   "metadata": {},
   "source": [
    "End of Notebook"
   ]
  }
 ],
 "metadata": {
  "language_info": {
   "name": "python"
  }
 },
 "nbformat": 4,
 "nbformat_minor": 5
}
